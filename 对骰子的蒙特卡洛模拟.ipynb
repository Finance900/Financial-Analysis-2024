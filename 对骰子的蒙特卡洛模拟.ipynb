{
 "cells": [
  {
   "cell_type": "code",
   "execution_count": 1,
   "id": "234f2e65",
   "metadata": {},
   "outputs": [
    {
     "name": "stdout",
     "output_type": "stream",
     "text": [
      "每个数字出现的次数：\n",
      " 1 :166157\n",
      " 2 :166722\n",
      " 3 :166480\n",
      " 4 :167272\n",
      " 5 :166523\n",
      " 6 :166846\n",
      "每个数字出现的概率：\n",
      " 1 ： 16.62%\n",
      " 2 ： 16.67%\n",
      " 3 ： 16.65%\n",
      " 4 ： 16.73%\n",
      " 5 ： 16.65%\n",
      " 6 ： 16.68%\n"
     ]
    }
   ],
   "source": [
    "#创建一个六面的骰子\n",
    "from collections import Counter\n",
    "from random import randint\n",
    "class Die():\n",
    "    def __init__(self,sides=6):\n",
    "        self.sides=sides\n",
    "    def roll_die(self):\n",
    "        return randint(1,self.sides)\n",
    "\n",
    "#调用骰子实例，掷1000次进行蒙特卡洛模拟\n",
    "d_die=Die()\n",
    "list1=[]\n",
    "for i in range(1000000):\n",
    "    y=d_die.roll_die()\n",
    "    list1.append(y)\n",
    "\n",
    "#显示结果\n",
    "counts=Counter(list1)\n",
    "total_roll=len(list1)\n",
    "print('每个数字出现的次数：')\n",
    "for i in range(1,d_die.sides+1):\n",
    "    print(f' {i} :{counts[i]}')\n",
    "print('每个数字出现的概率：')\n",
    "for i in range(1,d_die.sides+1):\n",
    "    probability=counts[i]/total_roll\n",
    "    print(f' {i} ： {probability:.2%}')"
   ]
  },
  {
   "cell_type": "code",
   "execution_count": null,
   "id": "b08fe616",
   "metadata": {},
   "outputs": [],
   "source": []
  }
 ],
 "metadata": {
  "kernelspec": {
   "display_name": "Python 3 (ipykernel)",
   "language": "python",
   "name": "python3"
  },
  "language_info": {
   "codemirror_mode": {
    "name": "ipython",
    "version": 3
   },
   "file_extension": ".py",
   "mimetype": "text/x-python",
   "name": "python",
   "nbconvert_exporter": "python",
   "pygments_lexer": "ipython3",
   "version": "3.10.9"
  }
 },
 "nbformat": 4,
 "nbformat_minor": 5
}
